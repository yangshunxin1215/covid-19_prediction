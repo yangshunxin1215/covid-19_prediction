{
 "cells": [
  {
   "cell_type": "markdown",
   "metadata": {},
   "source": [
    "# SIR Model for COVID-19 prediction"
   ]
  },
  {
   "cell_type": "markdown",
   "metadata": {},
   "source": [
    "First, import."
   ]
  },
  {
   "cell_type": "code",
   "execution_count": 1,
   "metadata": {
    "collapsed": true
   },
   "outputs": [],
   "source": [
    "import numpy as np\n",
    "import pandas as pd\n",
    "import math\n",
    "import datetime\n",
    "from scipy.integrate import odeint\n",
    "from scipy.optimize import minimize\n",
    "import matplotlib.pyplot as plt"
   ]
  },
  {
   "cell_type": "code",
   "execution_count": 3,
   "metadata": {
    "scrolled": true
   },
   "outputs": [
    {
     "data": {
      "text/html": [
       "<div>\n",
       "<style>\n",
       "    .dataframe thead tr:only-child th {\n",
       "        text-align: right;\n",
       "    }\n",
       "\n",
       "    .dataframe thead th {\n",
       "        text-align: left;\n",
       "    }\n",
       "\n",
       "    .dataframe tbody tr th {\n",
       "        vertical-align: top;\n",
       "    }\n",
       "</style>\n",
       "<table border=\"1\" class=\"dataframe\">\n",
       "  <thead>\n",
       "    <tr style=\"text-align: right;\">\n",
       "      <th></th>\n",
       "      <th>Date</th>\n",
       "      <th>Country/Region</th>\n",
       "      <th>Province/State</th>\n",
       "      <th>Lat</th>\n",
       "      <th>Long</th>\n",
       "      <th>Confirmed</th>\n",
       "      <th>Recovered</th>\n",
       "      <th>Deaths</th>\n",
       "    </tr>\n",
       "  </thead>\n",
       "  <tbody>\n",
       "    <tr>\n",
       "      <th>0</th>\n",
       "      <td>2020-01-22</td>\n",
       "      <td>Afghanistan</td>\n",
       "      <td>NaN</td>\n",
       "      <td>33.0</td>\n",
       "      <td>65.0</td>\n",
       "      <td>0.0</td>\n",
       "      <td>0.0</td>\n",
       "      <td>0.0</td>\n",
       "    </tr>\n",
       "    <tr>\n",
       "      <th>1</th>\n",
       "      <td>2020-01-23</td>\n",
       "      <td>Afghanistan</td>\n",
       "      <td>NaN</td>\n",
       "      <td>33.0</td>\n",
       "      <td>65.0</td>\n",
       "      <td>0.0</td>\n",
       "      <td>0.0</td>\n",
       "      <td>0.0</td>\n",
       "    </tr>\n",
       "    <tr>\n",
       "      <th>2</th>\n",
       "      <td>2020-01-24</td>\n",
       "      <td>Afghanistan</td>\n",
       "      <td>NaN</td>\n",
       "      <td>33.0</td>\n",
       "      <td>65.0</td>\n",
       "      <td>0.0</td>\n",
       "      <td>0.0</td>\n",
       "      <td>0.0</td>\n",
       "    </tr>\n",
       "    <tr>\n",
       "      <th>3</th>\n",
       "      <td>2020-01-25</td>\n",
       "      <td>Afghanistan</td>\n",
       "      <td>NaN</td>\n",
       "      <td>33.0</td>\n",
       "      <td>65.0</td>\n",
       "      <td>0.0</td>\n",
       "      <td>0.0</td>\n",
       "      <td>0.0</td>\n",
       "    </tr>\n",
       "    <tr>\n",
       "      <th>4</th>\n",
       "      <td>2020-01-26</td>\n",
       "      <td>Afghanistan</td>\n",
       "      <td>NaN</td>\n",
       "      <td>33.0</td>\n",
       "      <td>65.0</td>\n",
       "      <td>0.0</td>\n",
       "      <td>0.0</td>\n",
       "      <td>0.0</td>\n",
       "    </tr>\n",
       "  </tbody>\n",
       "</table>\n",
       "</div>"
      ],
      "text/plain": [
       "         Date Country/Region Province/State   Lat  Long  Confirmed  Recovered  \\\n",
       "0  2020-01-22    Afghanistan            NaN  33.0  65.0        0.0        0.0   \n",
       "1  2020-01-23    Afghanistan            NaN  33.0  65.0        0.0        0.0   \n",
       "2  2020-01-24    Afghanistan            NaN  33.0  65.0        0.0        0.0   \n",
       "3  2020-01-25    Afghanistan            NaN  33.0  65.0        0.0        0.0   \n",
       "4  2020-01-26    Afghanistan            NaN  33.0  65.0        0.0        0.0   \n",
       "\n",
       "   Deaths  \n",
       "0     0.0  \n",
       "1     0.0  \n",
       "2     0.0  \n",
       "3     0.0  \n",
       "4     0.0  "
      ]
     },
     "execution_count": 3,
     "metadata": {},
     "output_type": "execute_result"
    }
   ],
   "source": [
    "#read data \n",
    "data=pd.read_csv(\"time-series-19-covid-combined.csv\")\n",
    "data.head()"
   ]
  },
  {
   "cell_type": "code",
   "execution_count": 7,
   "metadata": {
    "scrolled": false
   },
   "outputs": [
    {
     "data": {
      "text/plain": [
       "<matplotlib.axes._subplots.AxesSubplot at 0x20a88eea630>"
      ]
     },
     "execution_count": 7,
     "metadata": {},
     "output_type": "execute_result"
    },
    {
     "data": {
      "image/png": "[encoded data removed]",
      "text/plain": [
       "<Figure size 432x288 with 1 Axes>"
      ]
     },
     "metadata": {
      "needs_background": "light"
     },
     "output_type": "display_data"
    }
   ],
   "source": [
    "#Preprocessing our data\n",
    "#At frist, extract US data for our project \n",
    "US_data=data.loc[data.loc[:,'Country/Region']=='US']\n",
    "#reset the index \n",
    "US_data.index=[i for i in range (US_data.shape[0])]\n",
    "#visualize the data\n",
    "US_data.loc[:,['Confirmed', 'Recovered','Deaths']].plot()"
   ]
  },
  {
   "cell_type": "code",
   "execution_count": 10,
   "metadata": {},
   "outputs": [
    {
     "data": {
      "text/plain": [
       "array([ 0,  1,  2,  3,  4,  5,  6,  7,  8,  9, 10, 11, 12, 13, 14, 15, 16,\n",
       "       17, 18, 19, 20, 21, 22, 23, 24, 25, 26, 27, 28, 29, 30, 31, 32, 33,\n",
       "       34, 35, 36, 37, 38, 39, 40, 41, 42, 43, 44, 45, 46, 47, 48, 49, 50,\n",
       "       51, 52, 53, 54, 55, 56, 57, 58, 59, 60, 61, 62, 63, 64, 65, 66, 67,\n",
       "       68, 69, 70, 71, 72, 73])"
      ]
     },
     "execution_count": 10,
     "metadata": {},
     "output_type": "execute_result"
    }
   ],
   "source": [
    "#set the time of first case in USA as 'start'\n",
    "start = datetime.datetime.strptime('2020-01-22', \"%Y-%m-%d\")\n",
    "#set the end time we want to use to estimate beta as 'end'. We want to use '2020-04-04' as end time to estimate the beta. \n",
    "end=datetime.datetime.strptime('2020-04-04', \"%Y-%m-%d\")\n",
    "#create the index of time between '2020-01-22' and '2020-04-04'\n",
    "timerange=np.array([i for i in range((start - start).days,(end - start).days+1)])\n",
    "timerange"
   ]
  },
  {
   "cell_type": "markdown",
   "metadata": {},
   "source": [
    "We are known that beta can be decomposed into nContact * infection_Probability, nContact means that an infected person can contact the number of people each day. In our project, nContact we pretend to know, and it equals to 5 between '2020-01-22' and '2020-04-04'. But infection_Probability is unknown. We should use method to estimate. The following codes are used to estimate Infection_Probability. "
   ]
  },
  {
   "cell_type": "code",
   "execution_count": 12,
   "metadata": {},
   "outputs": [
    {
     "name": "stdout",
     "output_type": "stream",
     "text": [
      "Optimization terminated successfully.\n",
      "         Current function value: 3934932090.702734\n",
      "         Iterations: 29\n",
      "         Function evaluations: 58\n"
     ]
    }
   ],
   "source": [
    "class InfectProb:\n",
    "    def __init__(self, timerange, nContact, gamma):\n",
    "        self.timerange = timerange\n",
    "        self.nContact, self.gamma = nContact, gamma\n",
    "        self.data=US_data\n",
    "    def object_function(self,infectionProb):\n",
    "        vector=np.array(np.exp((infectionProb*self.nContact-self.gamma)*self.timerange)-self.data.loc[self.timerange,'Confirmed'])\n",
    "        return ((vector**2).sum())\n",
    "\n",
    "Infection_Prob_function=InfectProb(timerange, 5 ,1/14)\n",
    "InfectionProb_estimated=minimize(Infection_Prob_function.object_function, 0.04, method='nelder-mead', options={'xtol': 1e-8, 'disp': True}).x\n"
   ]
  },
  {
   "cell_type": "markdown",
   "metadata": {},
   "source": [
    "The define our SIR model."
   ]
  },
  {
   "cell_type": "code",
   "execution_count": 14,
   "metadata": {
    "collapsed": true
   },
   "outputs": [],
   "source": [
    "class SIRModel:\n",
    "    def __init__(self, N, beta, gamma):\n",
    "        self.beta= beta\n",
    "        self.gamma=gamma\n",
    "        self.N=N\n",
    "        self.t=np.linspace(0,360,361)\n",
    "    def odemodel(self, population,t):\n",
    "        diff=np.zeros(3)\n",
    "        s,i,r=population\n",
    "        diff[0] = - self.beta * s * i / self.N\n",
    "        diff[1] = self.beta * s * i / self.N - self.gamma * i\n",
    "        diff[2] = self.gamma * i\n",
    "        return diff\n"
   ]
  },
  {
   "cell_type": "code",
   "execution_count": 17,
   "metadata": {
    "collapsed": true
   },
   "outputs": [],
   "source": [
    "# set our initial values for beta, gamma, N(we pretend to say the initial S squals to N(the popluation of USA))\n",
    "nContact_train=4.5\n",
    "beta = nContact_train*InfectionProb_estimated[0]\n",
    "gamma=1/14\n",
    "N=327.2*100*10000 # the population of USA\n",
    "our_SIR=SIRModel(N,beta,gamma)\n",
    "predict=odeint(our_SIR.odemodel,[N-1,1,0],np.linspace(0,360,361)) # predict 1 year situation.\n",
    "cumulate_predict_confirm=[predict[0:i,1].sum() for i in range(predict.shape[0]+1)] # compute the culmulative confirmed cases"
   ]
  },
  {
   "cell_type": "markdown",
   "metadata": {},
   "source": [
    "Visualize"
   ]
  },
  {
   "cell_type": "code",
   "execution_count": 18,
   "metadata": {},
   "outputs": [
    {
     "data": {
      "text/plain": [
       "<matplotlib.legend.Legend at 0x20a893cf048>"
      ]
     },
     "execution_count": 18,
     "metadata": {},
     "output_type": "execute_result"
    },
    {
     "data": {
      "image/png": "[encoded data removed]",
      "text/plain": [
       "<Figure size 432x288 with 1 Axes>"
      ]
     },
     "metadata": {
      "needs_background": "light"
     },
     "output_type": "display_data"
    }
   ],
   "source": [
    "#predict confirmed cases for 80 days from '2020-01-22'\n",
    "plt.plot(cumulate_predict_confirm[0:80],color = 'orange',label = 'PredictedInfection',marker = '.')\n",
    "plt.plot(US_data.Confirmed,color = 'red',label = 'RealData',marker = '.')\n",
    "plt.legend()"
   ]
  },
  {
   "cell_type": "code",
   "execution_count": 19,
   "metadata": {},
   "outputs": [
    {
     "data": {
      "text/plain": [
       "[<matplotlib.lines.Line2D at 0x20a8942f3c8>]"
      ]
     },
     "execution_count": 19,
     "metadata": {},
     "output_type": "execute_result"
    },
    {
     "data": {
      "image/png": "[encoded data removed]",
      "text/plain": [
       "<Figure size 432x288 with 1 Axes>"
      ]
     },
     "metadata": {
      "needs_background": "light"
     },
     "output_type": "display_data"
    }
   ],
   "source": [
    "#predict confirmed cases for 1 year from '2020-01-22'\n",
    "plt.plot(cumulate_predict_confirm,color = 'red',label = 'realdata',marker = '.')"
   ]
  },
  {
   "cell_type": "code",
   "execution_count": 21,
   "metadata": {
    "scrolled": true
   },
   "outputs": [
    {
     "data": {
      "text/plain": [
       "[<matplotlib.lines.Line2D at 0x20a8942fcc0>]"
      ]
     },
     "execution_count": 21,
     "metadata": {},
     "output_type": "execute_result"
    },
    {
     "data": {
      "image/png": "[encoded data removed]",
      "text/plain": [
       "<Figure size 432x288 with 1 Axes>"
      ]
     },
     "metadata": {
      "needs_background": "light"
     },
     "output_type": "display_data"
    }
   ],
   "source": [
    "#predict confirmed cases and recovered cases for 1 year from '2020-01-22' without any control.\n",
    "plt.plot(cumulate_predict_confirm,color = 'orange',label = 'PredictedInfection',marker = '.')\n",
    "plt.plot(predict[:,1],color = 'green',label = 'RealData',marker = '.')"
   ]
  },
  {
   "cell_type": "code",
   "execution_count": 23,
   "metadata": {},
   "outputs": [
    {
     "data": {
      "text/plain": [
       "[<matplotlib.lines.Line2D at 0x20a894b7a58>]"
      ]
     },
     "execution_count": 23,
     "metadata": {},
     "output_type": "execute_result"
    },
    {
     "data": {
      "image/png": "[encoded data removed]",
      "text/plain": [
       "<Figure size 432x288 with 1 Axes>"
      ]
     },
     "metadata": {
      "needs_background": "light"
     },
     "output_type": "display_data"
    }
   ],
   "source": [
    "#If US take actions, but not serious actions. We set ncontact to 3. And see what the curve will be. \n",
    "nContact_train=3\n",
    "beta = nContact_train*InfectionProb_estimated[0]\n",
    "gamma=1/14\n",
    "N=327.2*100*10000 # the population of USA\n",
    "our_SIR=SIRModel(N,beta,gamma)\n",
    "predict=odeint(our_SIR.odemodel,[N-1,1,0],np.linspace(0,360,361)) # predict 1 year situation.\n",
    "cumulate_predict_confirm=[predict[0:i,1].sum() for i in range(predict.shape[0]+1)] # compute the culmulative confirmed cases\n",
    "plt.plot(cumulate_predict_confirm,color = 'orange',label = 'PredictedInfection',marker = '.')\n",
    "plt.plot(predict[:,1],color = 'green',label = 'RealData',marker = '.')"
   ]
  },
  {
   "cell_type": "code",
   "execution_count": 24,
   "metadata": {},
   "outputs": [
    {
     "data": {
      "text/plain": [
       "[<matplotlib.lines.Line2D at 0x20a894b7710>]"
      ]
     },
     "execution_count": 24,
     "metadata": {},
     "output_type": "execute_result"
    },
    {
     "data": {
      "image/png": "[encoded data removed]",
      "text/plain": [
       "<Figure size 432x288 with 1 Axes>"
      ]
     },
     "metadata": {
      "needs_background": "light"
     },
     "output_type": "display_data"
    }
   ],
   "source": [
    "#If US take serious actions, like Wuhan, China. We set ncontact to 2. And see what the curve will be. \n",
    "nContact_train=2\n",
    "beta = nContact_train*InfectionProb_estimated[0]\n",
    "gamma=1/14\n",
    "N=327.2*100*10000 # the population of USA\n",
    "our_SIR=SIRModel(N,beta,gamma)\n",
    "predict=odeint(our_SIR.odemodel,[N-1,1,0],np.linspace(0,360,361)) # predict 1 year situation.\n",
    "cumulate_predict_confirm=[predict[0:i,1].sum() for i in range(predict.shape[0]+1)] # compute the culmulative confirmed cases\n",
    "plt.plot(cumulate_predict_confirm,color = 'orange',label = 'PredictedInfection',marker = '.')\n",
    "plt.plot(predict[:,1],color = 'green',label = 'RealData',marker = '.')"
   ]
  }
 ],
 "metadata": {
  "kernelspec": {
   "display_name": "Python 3",
   "language": "python",
   "name": "python3"
  },
  "language_info": {
   "codemirror_mode": {
    "name": "ipython",
    "version": 3
   },
   "file_extension": ".py",
   "mimetype": "text/x-python",
   "name": "python",
   "nbconvert_exporter": "python",
   "pygments_lexer": "ipython3",
   "version": "3.6.8"
  }
 },
 "nbformat": 4,
 "nbformat_minor": 2
}
