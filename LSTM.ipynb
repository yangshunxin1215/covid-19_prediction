{
 "cells": [
  {
   "cell_type": "code",
   "execution_count": 2,
   "metadata": {},
   "outputs": [
    {
     "data": {
      "text/html": [
       "<div>\n",
       "<style>\n",
       "    .dataframe thead tr:only-child th {\n",
       "        text-align: right;\n",
       "    }\n",
       "\n",
       "    .dataframe thead th {\n",
       "        text-align: left;\n",
       "    }\n",
       "\n",
       "    .dataframe tbody tr th {\n",
       "        vertical-align: top;\n",
       "    }\n",
       "</style>\n",
       "<table border=\"1\" class=\"dataframe\">\n",
       "  <thead>\n",
       "    <tr style=\"text-align: right;\">\n",
       "      <th></th>\n",
       "      <th>Confirmed</th>\n",
       "    </tr>\n",
       "  </thead>\n",
       "  <tbody>\n",
       "    <tr>\n",
       "      <th>0</th>\n",
       "      <td>1.0</td>\n",
       "    </tr>\n",
       "    <tr>\n",
       "      <th>1</th>\n",
       "      <td>1.0</td>\n",
       "    </tr>\n",
       "    <tr>\n",
       "      <th>2</th>\n",
       "      <td>2.0</td>\n",
       "    </tr>\n",
       "    <tr>\n",
       "      <th>3</th>\n",
       "      <td>2.0</td>\n",
       "    </tr>\n",
       "    <tr>\n",
       "      <th>4</th>\n",
       "      <td>5.0</td>\n",
       "    </tr>\n",
       "  </tbody>\n",
       "</table>\n",
       "</div>"
      ],
      "text/plain": [
       "   Confirmed\n",
       "0        1.0\n",
       "1        1.0\n",
       "2        2.0\n",
       "3        2.0\n",
       "4        5.0"
      ]
     },
     "execution_count": 2,
     "metadata": {},
     "output_type": "execute_result"
    }
   ],
   "source": [
    "import numpy as np\n",
    "import pandas as pd\n",
    "import math\n",
    "import datetime\n",
    "import matplotlib.pyplot as plt\n",
    "\n",
    "from keras.models import Sequential\n",
    "from keras.layers import Dense\n",
    "from keras.layers import LSTM\n",
    "from sklearn.preprocessing import MinMaxScaler\n",
    "from sklearn.metrics import mean_squared_error\n",
    "data=pd.read_csv(\"time-series-19-covid-combined.csv\")\n",
    "US_data=data.loc[data.loc[:,'Country/Region']=='US']\n",
    "US_data.index=[i for i in range (US_data.shape[0])]\n",
    "df=pd.DataFrame(US_data.Confirmed)\n",
    "df.head()\n"
   ]
  },
  {
   "cell_type": "code",
   "execution_count": 3,
   "metadata": {
    "collapsed": true
   },
   "outputs": [],
   "source": [
    "scaler = MinMaxScaler(feature_range=(0, 1))\n",
    "data = scaler.fit_transform(df)"
   ]
  },
  {
   "cell_type": "code",
   "execution_count": 4,
   "metadata": {
    "collapsed": true
   },
   "outputs": [],
   "source": [
    "def create_dataset(dataset, look_back=1):\n",
    "\tdataX, dataY = [], []\n",
    "\tfor i in range(len(dataset)-look_back-1):\n",
    "\t\ta = dataset[i:(i+look_back), 0]\n",
    "\t\tdataX.append(a)\n",
    "\t\tdataY.append(dataset[i + look_back, 0])\n",
    "\treturn np.array(dataX), np.array(dataY)"
   ]
  },
  {
   "cell_type": "code",
   "execution_count": 5,
   "metadata": {
    "collapsed": true
   },
   "outputs": [],
   "source": [
    "def ysx(dataset,look_back=1):\n",
    "    dataX,dataY=[],[]\n",
    "    loop=look_back-1\n",
    "    for i in range(len(dataset)-loop):\n",
    "        a=dataset[i:(i+look_back),0]\n",
    "        dataX.append(a)\n",
    "    return np.array(dataX)"
   ]
  },
  {
   "cell_type": "code",
   "execution_count": null,
   "metadata": {
    "collapsed": true
   },
   "outputs": [],
   "source": [
    "predict_result=[]\n",
    "for i in range(10):\n",
    "    look_back=i+1\n",
    "    trainX, trainY = create_dataset(data, look_back)\n",
    "    trainX = np.reshape(trainX, (trainX.shape[0], trainX.shape[1],1))\n",
    "    model = Sequential()\n",
    "    #输入数据的shape为(n_samples, timestamps, features)\n",
    "    #隐藏层设置为256, input_shape元组第二个参数1意指features为1\n",
    "    #下面还有个lstm，故return_sequences设置为True\n",
    "    model.add(LSTM(units=256,input_shape=(None,1),return_sequences=True))\n",
    "    model.add(LSTM(units=256))\n",
    "    #后接全连接层，直接输出单个值，故units为1\n",
    "    model.add(Dense(units=1))\n",
    "    #model.add(Activation('linear'))\n",
    "    model.compile(loss='mse',optimizer='adam')\n",
    "    model.fit(trainX, trainY, epochs=10, batch_size=1)\n",
    "    predict_dataX= ysx(data, look_back)\n",
    "    predict_dataX = np.reshape(predict_dataX, (predict_dataX.shape[0], predict_dataX.shape[1],1))\n",
    "    preidct_scale=model.predict(predict_dataX)\n",
    "    predict_not_scale=scaler.inverse_transform(preidct_scale)\n",
    "    predict_result.append(predict_not_scale[-1])"
   ]
  }
 ],
 "metadata": {
  "kernelspec": {
   "display_name": "Python 3",
   "language": "python",
   "name": "python3"
  },
  "language_info": {
   "codemirror_mode": {
    "name": "ipython",
    "version": 3
   },
   "file_extension": ".py",
   "mimetype": "text/x-python",
   "name": "python",
   "nbconvert_exporter": "python",
   "pygments_lexer": "ipython3",
   "version": "3.6.8"
  }
 },
 "nbformat": 4,
 "nbformat_minor": 2
}
