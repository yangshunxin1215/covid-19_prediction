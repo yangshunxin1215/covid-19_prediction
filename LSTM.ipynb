{
 "cells": [
  {
   "cell_type": "code",
   "execution_count": 1,
   "metadata": {
    "scrolled": true
   },
   "outputs": [
    {
     "name": "stderr",
     "output_type": "stream",
     "text": [
      "Using TensorFlow backend.\n"
     ]
    }
   ],
   "source": [
    "import numpy as np\n",
    "import pandas as pd\n",
    "import math\n",
    "import datetime\n",
    "from scipy.integrate import odeint\n",
    "from scipy.optimize import minimize\n",
    "import matplotlib.pyplot as plt\n",
    "\n",
    "from keras.models import Sequential\n",
    "from keras.layers import Dense\n",
    "from keras.layers import LSTM\n",
    "from sklearn.preprocessing import MinMaxScaler\n",
    "from sklearn.metrics import mean_squared_error\n"
   ]
  },
  {
   "cell_type": "code",
   "execution_count": 2,
   "metadata": {
    "collapsed": true
   },
   "outputs": [],
   "source": [
    "class DataProcess:\n",
    "    def __init__(self, path, country):\n",
    "        self.path = path\n",
    "        self.country = country\n",
    "        self.data = pd.read_csv(self.path)\n",
    "        self.data = self.data.loc[self.data.loc[:,'Country/Region']==self.country]\n",
    "        self.data.index=[i for i in range (self.data.shape[0])]\n",
    "        #self.data=self.data.loc[data.loc[:,'Country/Region']==country]\n",
    "    def ExtractConfirmedCases(self):\n",
    "        self.data=pd.DataFrame(self.data.Confirmed)\n",
    "        return(pd.DataFrame(self.data.Confirmed))\n",
    "    def ExtractRecoveredCases(self):\n",
    "        self.data=pd.DataFrame(self.data.Recovered)\n",
    "        return(pd.DataFrame(self.data.Recovered))\n",
    "    def ExtractDeathsCases(self):\n",
    "        self.data=pd.DataFrame(self.data.Deaths)\n",
    "        return(pd.DataFrame(self.data.Deaths))"
   ]
  },
  {
   "cell_type": "markdown",
   "metadata": {},
   "source": [
    "Define our LSTM model"
   ]
  },
  {
   "cell_type": "code",
   "execution_count": 3,
   "metadata": {
    "collapsed": true
   },
   "outputs": [],
   "source": [
    "model = Sequential()\n",
    "model.add(LSTM(units=256,input_shape=(None,1),return_sequences=True))\n",
    "model.add(LSTM(units=256))\n",
    "model.add(Dense(units=1))\n",
    "model.compile(loss='mse',optimizer='adam')"
   ]
  },
  {
   "cell_type": "code",
   "execution_count": 4,
   "metadata": {
    "collapsed": true
   },
   "outputs": [],
   "source": [
    "path= \"C:/cov/ysx/time-series-19-covid-combined.csv\"\n",
    "country='US'"
   ]
  },
  {
   "cell_type": "markdown",
   "metadata": {},
   "source": [
    "First, we predict Confirmed cases in USA."
   ]
  },
  {
   "cell_type": "code",
   "execution_count": 5,
   "metadata": {
    "collapsed": true
   },
   "outputs": [],
   "source": [
    "df_Confirmed = DataProcess(path,country).ExtractConfirmedCases()\n",
    "#scale the data\n",
    "scaler = MinMaxScaler(feature_range=(0, 1))\n",
    "data_Confirmed = scaler.fit_transform(df_Confirmed)\n",
    "look_back = 1 \n",
    "def create_dataset(dataset, look_back=1):\n",
    "\tdataX, dataY = [], []\n",
    "\tfor i in range(len(dataset)-look_back-1):\n",
    "\t\ta = dataset[i:(i+look_back), 0]\n",
    "\t\tdataX.append(a)\n",
    "\t\tdataY.append(dataset[i + look_back, 0])\n",
    "\treturn np.array(dataX), np.array(dataY)\n",
    "trainX, trainY = create_dataset(data_Confirmed, look_back)\n",
    "trainX = np.reshape(trainX, (trainX.shape[0], trainX.shape[1],1))"
   ]
  },
  {
   "cell_type": "code",
   "execution_count": 6,
   "metadata": {},
   "outputs": [
    {
     "name": "stdout",
     "output_type": "stream",
     "text": [
      "Epoch 1/10\n",
      "72/72 [==============================] - 4s 53ms/step - loss: 0.0311\n",
      "Epoch 2/10\n",
      "72/72 [==============================] - 2s 28ms/step - loss: 0.0077\n",
      "Epoch 3/10\n",
      "72/72 [==============================] - 2s 27ms/step - loss: 1.2957e-04\n",
      "Epoch 4/10\n",
      "72/72 [==============================] - 2s 25ms/step - loss: 1.4582e-04\n",
      "Epoch 5/10\n",
      "72/72 [==============================] - 2s 28ms/step - loss: 1.2220e-04\n",
      "Epoch 6/10\n",
      "72/72 [==============================] - 2s 28ms/step - loss: 2.0833e-04\n",
      "Epoch 7/10\n",
      "72/72 [==============================] - 2s 29ms/step - loss: 1.6756e-04\n",
      "Epoch 8/10\n",
      "72/72 [==============================] - 2s 26ms/step - loss: 1.0503e-04\n",
      "Epoch 9/10\n",
      "72/72 [==============================] - 2s 27ms/step - loss: 1.6236e-04\n",
      "Epoch 10/10\n",
      "72/72 [==============================] - 2s 28ms/step - loss: 1.7526e-04\n"
     ]
    },
    {
     "data": {
      "text/plain": [
       "<keras.callbacks.History at 0x1b37acd5cf8>"
      ]
     },
     "execution_count": 6,
     "metadata": {},
     "output_type": "execute_result"
    }
   ],
   "source": [
    "#train our model\n",
    "model.fit(trainX, trainY, epochs=10, batch_size=1)"
   ]
  },
  {
   "cell_type": "code",
   "execution_count": 7,
   "metadata": {
    "collapsed": true
   },
   "outputs": [],
   "source": [
    "#make prediction \n",
    "PredictConfirmed = []\n",
    "TimePredict = 100\n",
    "for i in range(TimePredict):\n",
    "    predict_step=model.predict(trainX)[-1]\n",
    "    PredictConfirmed.append(predict_step)\n",
    "    trainX = np.append(trainX[1:,:,:],[[predict_step]],axis=0)\n",
    "predict_not_scale=scaler.inverse_transform(PredictConfirmed)\n",
    "final_df_Confirmed=pd.DataFrame(np.append(df_Confirmed,predict_not_scale[2::,]))"
   ]
  },
  {
   "cell_type": "code",
   "execution_count": 8,
   "metadata": {},
   "outputs": [
    {
     "data": {
      "text/plain": [
       "<matplotlib.legend.Legend at 0x1b30330f2b0>"
      ]
     },
     "execution_count": 8,
     "metadata": {},
     "output_type": "execute_result"
    },
    {
     "data": {
      "image/png": "[encoded data removed]",
      "text/plain": [
       "<Figure size 432x288 with 1 Axes>"
      ]
     },
     "metadata": {
      "needs_background": "light"
     },
     "output_type": "display_data"
    }
   ],
   "source": [
    "#Visualization of our result \n",
    "plt.plot(final_df_Confirmed.iloc[:len(data_Confirmed)+1,],color=\"red\",linestyle=\":\",label='ConfirmedRealData')\n",
    "plt.plot(final_df_Confirmed.iloc[len(data_Confirmed)::,],color=\"red\",label='ConfirmedPredict')\n",
    "plt.legend()\n"
   ]
  },
  {
   "cell_type": "code",
   "execution_count": 9,
   "metadata": {},
   "outputs": [],
   "source": [
    "#Second, we predict Deaths cases in USA.\n",
    "df_Deaths=DataProcess(path,country).ExtractDeathsCases()\n",
    "scaler = MinMaxScaler(feature_range=(0, 1))\n",
    "data_Deaths = scaler.fit_transform(df_Deaths)\n",
    "look_back = 1 \n",
    "def create_dataset(dataset, look_back=1):\n",
    "\tdataX, dataY = [], []\n",
    "\tfor i in range(len(dataset)-look_back-1):\n",
    "\t\ta = dataset[i:(i+look_back), 0]\n",
    "\t\tdataX.append(a)\n",
    "\t\tdataY.append(dataset[i + look_back, 0])\n",
    "\treturn np.array(dataX), np.array(dataY)\n",
    "trainX, trainY = create_dataset(data_Deaths, look_back)\n",
    "trainX = np.reshape(trainX, (trainX.shape[0], trainX.shape[1],1))"
   ]
  },
  {
   "cell_type": "code",
   "execution_count": 10,
   "metadata": {
    "scrolled": true
   },
   "outputs": [
    {
     "name": "stdout",
     "output_type": "stream",
     "text": [
      "Epoch 1/10\n",
      "72/72 [==============================] - 2s 29ms/step - loss: 7.2650e-05\n",
      "Epoch 2/10\n",
      "72/72 [==============================] - 2s 25ms/step - loss: 2.9498e-04\n",
      "Epoch 3/10\n",
      "72/72 [==============================] - 2s 26ms/step - loss: 1.5876e-04\n",
      "Epoch 4/10\n",
      "72/72 [==============================] - 2s 25ms/step - loss: 9.3263e-05\n",
      "Epoch 5/10\n",
      "72/72 [==============================] - 2s 26ms/step - loss: 2.2677e-04\n",
      "Epoch 6/10\n",
      "72/72 [==============================] - 2s 25ms/step - loss: 6.7368e-05\n",
      "Epoch 7/10\n",
      "72/72 [==============================] - 2s 29ms/step - loss: 2.2669e-04\n",
      "Epoch 8/10\n",
      "72/72 [==============================] - 2s 27ms/step - loss: 9.0765e-05\n",
      "Epoch 9/10\n",
      "72/72 [==============================] - 2s 27ms/step - loss: 1.4105e-04\n",
      "Epoch 10/10\n",
      "72/72 [==============================] - 2s 26ms/step - loss: 5.1837e-04\n"
     ]
    },
    {
     "data": {
      "text/plain": [
       "<keras.callbacks.History at 0x1b3033a2a20>"
      ]
     },
     "execution_count": 10,
     "metadata": {},
     "output_type": "execute_result"
    }
   ],
   "source": [
    "#train our model\n",
    "model.fit(trainX, trainY, epochs=10, batch_size=1)"
   ]
  },
  {
   "cell_type": "code",
   "execution_count": 11,
   "metadata": {
    "collapsed": true
   },
   "outputs": [],
   "source": [
    "#make prediction \n",
    "PredictDeaths = []\n",
    "TimePredict = 100\n",
    "for i in range(TimePredict):\n",
    "    predict_step=model.predict(trainX)[-1]\n",
    "    PredictDeaths.append(predict_step)\n",
    "    trainX = np.append(trainX[1:,:,:],[[predict_step]],axis=0)\n",
    "predict_not_scale=scaler.inverse_transform(PredictDeaths)\n",
    "final_df_Deaths=pd.DataFrame(np.append(df_Deaths,predict_not_scale[2::,]))"
   ]
  },
  {
   "cell_type": "code",
   "execution_count": 12,
   "metadata": {},
   "outputs": [
    {
     "data": {
      "text/plain": [
       "<matplotlib.legend.Legend at 0x1b303322860>"
      ]
     },
     "execution_count": 12,
     "metadata": {},
     "output_type": "execute_result"
    },
    {
     "data": {
      "image/png": "[encoded data removed]",
      "text/plain": [
       "<Figure size 432x288 with 1 Axes>"
      ]
     },
     "metadata": {
      "needs_background": "light"
     },
     "output_type": "display_data"
    }
   ],
   "source": [
    "#visualization\n",
    "plt.plot(final_df_Deaths.iloc[:len(data_Deaths)+1,],color=\"black\",linestyle=\":\",label='DeathsRealData')\n",
    "plt.plot(final_df_Deaths.iloc[len(data_Deaths)::,],color=\"black\",label='DeathsPredict')\n",
    "plt.legend()"
   ]
  },
  {
   "cell_type": "code",
   "execution_count": 13,
   "metadata": {
    "collapsed": true
   },
   "outputs": [],
   "source": [
    "#Third, we predict recovered cases in USA.\n",
    "df_Recovered=DataProcess(path,country).ExtractRecoveredCases()\n",
    "scaler = MinMaxScaler(feature_range=(0, 1))\n",
    "data_Recovered = scaler.fit_transform(df_Recovered)\n",
    "look_back = 1 \n",
    "def create_dataset(dataset, look_back=1):\n",
    "\tdataX, dataY = [], []\n",
    "\tfor i in range(len(dataset)-look_back-1):\n",
    "\t\ta = dataset[i:(i+look_back), 0]\n",
    "\t\tdataX.append(a)\n",
    "\t\tdataY.append(dataset[i + look_back, 0])\n",
    "\treturn np.array(dataX), np.array(dataY)\n",
    "trainX, trainY = create_dataset(data_Recovered, look_back)\n",
    "trainX = np.reshape(trainX, (trainX.shape[0], trainX.shape[1],1))\n"
   ]
  },
  {
   "cell_type": "code",
   "execution_count": 14,
   "metadata": {},
   "outputs": [
    {
     "name": "stdout",
     "output_type": "stream",
     "text": [
      "Epoch 1/10\n",
      "72/72 [==============================] - 2s 24ms/step - loss: 0.0012\n",
      "Epoch 2/10\n",
      "72/72 [==============================] - 2s 24ms/step - loss: 0.0019\n",
      "Epoch 3/10\n",
      "72/72 [==============================] - 2s 28ms/step - loss: 0.0017\n",
      "Epoch 4/10\n",
      "72/72 [==============================] - 2s 28ms/step - loss: 0.0012\n",
      "Epoch 5/10\n",
      "72/72 [==============================] - 2s 29ms/step - loss: 0.0016\n",
      "Epoch 6/10\n",
      "72/72 [==============================] - 2s 27ms/step - loss: 0.0015\n",
      "Epoch 7/10\n",
      "72/72 [==============================] - 2s 27ms/step - loss: 0.0013\n",
      "Epoch 8/10\n",
      "72/72 [==============================] - 2s 27ms/step - loss: 0.0011\n",
      "Epoch 9/10\n",
      "72/72 [==============================] - 2s 25ms/step - loss: 5.1472e-04\n",
      "Epoch 10/10\n",
      "72/72 [==============================] - 2s 25ms/step - loss: 0.0014\n"
     ]
    },
    {
     "data": {
      "text/plain": [
       "<keras.callbacks.History at 0x1b37df29978>"
      ]
     },
     "execution_count": 14,
     "metadata": {},
     "output_type": "execute_result"
    }
   ],
   "source": [
    "model.fit(trainX, trainY, epochs=10, batch_size=1)"
   ]
  },
  {
   "cell_type": "code",
   "execution_count": 15,
   "metadata": {
    "collapsed": true
   },
   "outputs": [],
   "source": [
    "PredictRecovered = []\n",
    "TimePredict = 100\n",
    "for i in range(TimePredict):\n",
    "    predict_step=model.predict(trainX)[-1]\n",
    "    PredictRecovered.append(predict_step)\n",
    "    trainX = np.append(trainX[1:,:,:],[[predict_step]],axis=0)\n",
    "predict_not_scale=scaler.inverse_transform(PredictRecovered)\n",
    "final_df_Recovered=pd.DataFrame(np.append(df_Recovered,predict_not_scale[2::,]))"
   ]
  },
  {
   "cell_type": "code",
   "execution_count": 16,
   "metadata": {},
   "outputs": [
    {
     "data": {
      "text/plain": [
       "<matplotlib.legend.Legend at 0x1b37df996d8>"
      ]
     },
     "execution_count": 16,
     "metadata": {},
     "output_type": "execute_result"
    },
    {
     "data": {
      "image/png": "[encoded data removed]",
      "text/plain": [
       "<Figure size 432x288 with 1 Axes>"
      ]
     },
     "metadata": {
      "needs_background": "light"
     },
     "output_type": "display_data"
    }
   ],
   "source": [
    "plt.plot(final_df_Recovered.iloc[:len(data_Recovered)+1,],color=\"green\",linestyle=\":\",label='RecoveredRealData')\n",
    "plt.plot(final_df_Recovered.iloc[len(data_Recovered)::,],color=\"green\",label='RecoveredPredict')\n",
    "plt.legend()"
   ]
  },
  {
   "cell_type": "code",
   "execution_count": 17,
   "metadata": {},
   "outputs": [
    {
     "data": {
      "text/plain": [
       "<matplotlib.legend.Legend at 0x1b3033df860>"
      ]
     },
     "execution_count": 17,
     "metadata": {},
     "output_type": "execute_result"
    },
    {
     "data": {
      "image/png": "[encoded data removed]",
      "text/plain": [
       "<Figure size 432x288 with 1 Axes>"
      ]
     },
     "metadata": {
      "needs_background": "light"
     },
     "output_type": "display_data"
    }
   ],
   "source": [
    "#summary plot \n",
    "plt.plot(final_df_Confirmed.iloc[:len(data_Confirmed)+1,],color=\"red\",linestyle=\":\",label='ConfirmedRealData')\n",
    "plt.plot(final_df_Confirmed.iloc[len(data_Confirmed)::,],color=\"red\",label='ConfirmedPredict')\n",
    "plt.plot(final_df_Deaths.iloc[:len(data_Deaths)+1,],color=\"black\",linestyle=\":\",label='DeathsRealData')\n",
    "plt.plot(final_df_Deaths.iloc[len(data_Deaths)::,],color=\"black\",label='DeathsPredict')\n",
    "plt.plot(final_df_Recovered.iloc[:len(data_Recovered)+1,],color=\"green\",linestyle=\":\",label='RecoveredRealData')\n",
    "plt.plot(final_df_Recovered.iloc[len(data_Recovered)::,],color=\"green\",label='RecoveredPredict')\n",
    "plt.legend()"
   ]
  }
 ],
 "metadata": {
  "kernelspec": {
   "display_name": "Python 3",
   "language": "python",
   "name": "python3"
  },
  "language_info": {
   "codemirror_mode": {
    "name": "ipython",
    "version": 3
   },
   "file_extension": ".py",
   "mimetype": "text/x-python",
   "name": "python",
   "nbconvert_exporter": "python",
   "pygments_lexer": "ipython3",
   "version": "3.6.8"
  }
 },
 "nbformat": 4,
 "nbformat_minor": 2
}
