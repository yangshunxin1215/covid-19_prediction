{
 "cells": [
  {
   "cell_type": "code",
   "execution_count": 22,
   "metadata": {},
   "outputs": [
    {
     "data": {
      "text/html": [
       "<div>\n",
       "<style>\n",
       "    .dataframe thead tr:only-child th {\n",
       "        text-align: right;\n",
       "    }\n",
       "\n",
       "    .dataframe thead th {\n",
       "        text-align: left;\n",
       "    }\n",
       "\n",
       "    .dataframe tbody tr th {\n",
       "        vertical-align: top;\n",
       "    }\n",
       "</style>\n",
       "<table border=\"1\" class=\"dataframe\">\n",
       "  <thead>\n",
       "    <tr style=\"text-align: right;\">\n",
       "      <th></th>\n",
       "      <th>Confirmed</th>\n",
       "    </tr>\n",
       "  </thead>\n",
       "  <tbody>\n",
       "    <tr>\n",
       "      <th>0</th>\n",
       "      <td>1.0</td>\n",
       "    </tr>\n",
       "    <tr>\n",
       "      <th>1</th>\n",
       "      <td>1.0</td>\n",
       "    </tr>\n",
       "    <tr>\n",
       "      <th>2</th>\n",
       "      <td>2.0</td>\n",
       "    </tr>\n",
       "    <tr>\n",
       "      <th>3</th>\n",
       "      <td>2.0</td>\n",
       "    </tr>\n",
       "    <tr>\n",
       "      <th>4</th>\n",
       "      <td>5.0</td>\n",
       "    </tr>\n",
       "  </tbody>\n",
       "</table>\n",
       "</div>"
      ],
      "text/plain": [
       "   Confirmed\n",
       "0        1.0\n",
       "1        1.0\n",
       "2        2.0\n",
       "3        2.0\n",
       "4        5.0"
      ]
     },
     "execution_count": 22,
     "metadata": {},
     "output_type": "execute_result"
    }
   ],
   "source": [
    "import numpy as np\n",
    "import pandas as pd\n",
    "import math\n",
    "import datetime\n",
    "import matplotlib.pyplot as plt\n",
    "\n",
    "from keras.models import Sequential\n",
    "from keras.layers import Dense\n",
    "from keras.layers import LSTM\n",
    "from sklearn.preprocessing import MinMaxScaler\n",
    "from sklearn.metrics import mean_squared_error\n",
    "data=pd.read_csv(\"time-series-19-covid-combined.csv\")\n",
    "US_data=data.loc[data.loc[:,'Country/Region']=='US']\n",
    "US_data.index=[i for i in range (US_data.shape[0])]\n",
    "df=pd.DataFrame(US_data.Confirmed)\n",
    "df.head()\n"
   ]
  },
  {
   "cell_type": "code",
   "execution_count": 23,
   "metadata": {
    "collapsed": true
   },
   "outputs": [],
   "source": [
    "scaler = MinMaxScaler(feature_range=(0, 1))\n",
    "data = scaler.fit_transform(df)"
   ]
  },
  {
   "cell_type": "code",
   "execution_count": 24,
   "metadata": {
    "collapsed": true
   },
   "outputs": [],
   "source": [
    "look_back = 1 \n",
    "def create_dataset(dataset, look_back=1):\n",
    "\tdataX, dataY = [], []\n",
    "\tfor i in range(len(dataset)-look_back-1):\n",
    "\t\ta = dataset[i:(i+look_back), 0]\n",
    "\t\tdataX.append(a)\n",
    "\t\tdataY.append(dataset[i + look_back, 0])\n",
    "\treturn np.array(dataX), np.array(dataY)\n",
    "trainX, trainY = create_dataset(data, look_back)\n",
    "trainX = np.reshape(trainX, (trainX.shape[0], trainX.shape[1],1))\n"
   ]
  },
  {
   "cell_type": "code",
   "execution_count": 4,
   "metadata": {},
   "outputs": [
    {
     "name": "stdout",
     "output_type": "stream",
     "text": [
      "Epoch 1/10\n",
      "72/72 [==============================] - 4s 49ms/step - loss: 0.0291\n",
      "Epoch 2/10\n",
      "72/72 [==============================] - 2s 23ms/step - loss: 0.0046\n",
      "Epoch 3/10\n",
      "72/72 [==============================] - 2s 24ms/step - loss: 1.0154e-04\n",
      "Epoch 4/10\n",
      "72/72 [==============================] - 2s 24ms/step - loss: 8.2673e-05\n",
      "Epoch 5/10\n",
      "72/72 [==============================] - 2s 28ms/step - loss: 1.3577e-04\n",
      "Epoch 6/10\n",
      "72/72 [==============================] - 2s 33ms/step - loss: 1.2090e-04\n",
      "Epoch 7/10\n",
      "72/72 [==============================] - 2s 27ms/step - loss: 1.2599e-04\n",
      "Epoch 8/10\n",
      "72/72 [==============================] - 2s 27ms/step - loss: 3.7786e-04\n",
      "Epoch 9/10\n",
      "72/72 [==============================] - 2s 31ms/step - loss: 1.1773e-04\n",
      "Epoch 10/10\n",
      "72/72 [==============================] - 2s 29ms/step - loss: 5.6674e-05\n"
     ]
    },
    {
     "data": {
      "text/plain": [
       "<keras.callbacks.History at 0x2e359afe0b8>"
      ]
     },
     "execution_count": 4,
     "metadata": {},
     "output_type": "execute_result"
    }
   ],
   "source": [
    "#建立模型\n",
    "model = Sequential()\n",
    "model.add(LSTM(units=256,input_shape=(None,1),return_sequences=True))\n",
    "model.add(LSTM(units=256))\n",
    "model.add(Dense(units=1))\n",
    "#model.add(Activation('linear'))\n",
    "model.compile(loss='mse',optimizer='adam')\n",
    "model.fit(trainX, trainY, epochs=10, batch_size=1)\n"
   ]
  },
  {
   "cell_type": "code",
   "execution_count": 28,
   "metadata": {},
   "outputs": [
    {
     "data": {
      "text/plain": [
       "<matplotlib.legend.Legend at 0x2e361998c88>"
      ]
     },
     "execution_count": 28,
     "metadata": {},
     "output_type": "execute_result"
    },
    {
     "data": {
      "image/png": "[encoded data removed]",
      "text/plain": [
       "<Figure size 432x288 with 1 Axes>"
      ]
     },
     "metadata": {
      "needs_background": "light"
     },
     "output_type": "display_data"
    }
   ],
   "source": [
    "predict = []\n",
    "time_predict = 100\n",
    "predict_data = trainX\n",
    "for i in range(time_predict):\n",
    "    predict_step=model.predict(predict_data)[-1]\n",
    "    predict.append(predict_step)\n",
    "    predict_data = np.append(predict_data[1:,:,:],[[predict_step]],axis=0)\n",
    "predict_not_scale=scaler.inverse_transform(predict)\n",
    "result=pd.DataFrame(predict_not_scale)\n",
    "final_df=pd.DataFrame(np.append(df,result))\n",
    "plt.plot(final_df.iloc[0:73,],color=\"red\",label='realdata')\n",
    "plt.plot(final_df.iloc[73::,],color=\"green\",label='predict')\n",
    "plt.legend()"
   ]
  }
 ],
 "metadata": {
  "kernelspec": {
   "display_name": "Python 3",
   "language": "python",
   "name": "python3"
  },
  "language_info": {
   "codemirror_mode": {
    "name": "ipython",
    "version": 3
   },
   "file_extension": ".py",
   "mimetype": "text/x-python",
   "name": "python",
   "nbconvert_exporter": "python",
   "pygments_lexer": "ipython3",
   "version": "3.6.8"
  }
 },
 "nbformat": 4,
 "nbformat_minor": 2
}
